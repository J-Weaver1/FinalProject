{
 "cells": [
  {
   "cell_type": "code",
   "execution_count": null,
   "id": "a05880f1",
   "metadata": {},
   "outputs": [],
   "source": [
    "#Written by JW 2022\n",
    "\n",
    "#This program uses Python Image Library and PathLib to load images,\n",
    "#crop them into fourths, and save the results.\n",
    "\n",
    "#NOTE: Standalone program. Part of data collection stage. Does not need to be run again."
   ]
  },
  {
   "cell_type": "code",
   "execution_count": null,
   "id": "530582a8",
   "metadata": {},
   "outputs": [],
   "source": [
    "#Import all the libraries\n",
    "import matplotlib.pyplot as plt\n",
    "import numpy as np\n",
    "import PIL\n",
    "import tensorflow as tf\n",
    "\n",
    "from tensorflow import keras\n",
    "from tensorflow.keras import layers\n",
    "from tensorflow.keras.models import Sequential"
   ]
  },
  {
   "cell_type": "code",
   "execution_count": null,
   "id": "5c4e6389",
   "metadata": {},
   "outputs": [],
   "source": [
    "import pathlib\n",
    "\n",
    "from PIL import ImageOps\n",
    "\n",
    "#Locate the images\n",
    "imagePath = r\"C:\\Users\\jebwe\\Desktop\\Woodgrain\"\n",
    "\n",
    "#Convert file path into expected format\n",
    "imagePath = pathlib.Path(imagePath)\n",
    "\n",
    "#Test the file path by showing an image\n",
    "toCrop = list(imagePath.glob('RedCedar/*'))\n",
    "#PIL.Image.open(str(toCrop[1]))\n",
    "\n",
    "for i in range(len(toCrop)):\n",
    "    \n",
    "    img = PIL.Image.open(str(toCrop[i]))\n",
    "\n",
    "    #Image open function does not respect exif orientation data\n",
    "    img = ImageOps.exif_transpose(img)\n",
    "    \n",
    "    #Crop window for top left quarter\n",
    "    topLeft = (0,0,1170,2080)\n",
    "               \n",
    "    #Crop window for top Right quarter\n",
    "    topRight = (1170,0,2340,2080)\n",
    "               \n",
    "    #Crop window for bottom left quarter\n",
    "    bottomLeft = (0,2080,1170,4160)\n",
    "               \n",
    "    #Crop window for bottom right quarter\n",
    "    bottomRight = (1170,2080,2340,4160)\n",
    "    \n",
    "    #Apply the crops\n",
    "    topLeftImg = img.crop(topLeft)\n",
    "    bottomLeftImg = img.crop(bottomLeft)\n",
    "    topRightImg = img.crop(topRight)\n",
    "    bottomRightImg = img.crop(bottomRight)\n",
    "    \n",
    "    #Create filenames for the new images\n",
    "    filenameTL = r\"C:\\Users\\jebwe\\Desktop\\Woodgrain\\Cherry\\topLeft_\" + str(i) + \".jpg\"\n",
    "    filenameTR = r\"C:\\Users\\jebwe\\Desktop\\Woodgrain\\Cherry\\topRight_\" + str(i) +  \".jpg\"\n",
    "    filenameBL = r\"C:\\Users\\jebwe\\Desktop\\Woodgrain\\Cherry\\bottomLeft_\" + str(i) + \".jpg\"\n",
    "    filenameBR = r\"C:\\Users\\jebwe\\Desktop\\Woodgrain\\Cherry\\bottomRight_\" + str(i) + \".jpg\"\n",
    "       \n",
    "    #Save the cropped images\n",
    "    topLeftImg.save(filenameTL)\n",
    "    topRightImg.save(filenameTR)\n",
    "    bottomLeftImg.save(filenameBL)\n",
    "    bottomRightImg.save(filenameBR)"
   ]
  },
  {
   "cell_type": "code",
   "execution_count": null,
   "id": "40d28bbf",
   "metadata": {},
   "outputs": [],
   "source": []
  }
 ],
 "metadata": {
  "kernelspec": {
   "display_name": "Python 3 (ipykernel)",
   "language": "python",
   "name": "python3"
  },
  "language_info": {
   "codemirror_mode": {
    "name": "ipython",
    "version": 3
   },
   "file_extension": ".py",
   "mimetype": "text/x-python",
   "name": "python",
   "nbconvert_exporter": "python",
   "pygments_lexer": "ipython3",
   "version": "3.9.12"
  }
 },
 "nbformat": 4,
 "nbformat_minor": 5
}
